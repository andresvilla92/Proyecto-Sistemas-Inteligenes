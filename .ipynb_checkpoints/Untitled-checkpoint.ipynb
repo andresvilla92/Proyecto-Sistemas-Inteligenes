{
 "cells": [
  {
   "cell_type": "code",
   "execution_count": 13,
   "metadata": {},
   "outputs": [],
   "source": [
    "import numpy as np\n",
    "import os\n",
    "from PIL import Image"
   ]
  },
  {
   "cell_type": "code",
   "execution_count": 17,
   "metadata": {},
   "outputs": [
    {
     "name": "stdout",
     "output_type": "stream",
     "text": [
      "['Screen Shot 2017-10-26 at 12.10.47 PM.png', '.DS_Store']\n",
      "[[[161 161 161 255]\n",
      "  [161 161 161 255]\n",
      "  [161 161 161 255]\n",
      "  ..., \n",
      "  [209 209 209 255]\n",
      "  [209 209 209 255]\n",
      "  [209 209 209 255]]\n",
      "\n",
      " [[161 161 161 255]\n",
      "  [161 161 161 255]\n",
      "  [161 161 161 255]\n",
      "  ..., \n",
      "  [209 209 209 255]\n",
      "  [209 209 209 255]\n",
      "  [209 209 209 255]]\n",
      "\n",
      " [[161 161 161 255]\n",
      "  [161 161 161 255]\n",
      "  [161 161 161 255]\n",
      "  ..., \n",
      "  [209 209 209 255]\n",
      "  [209 209 209 255]\n",
      "  [209 209 209 255]]\n",
      "\n",
      " ..., \n",
      " [[238 238 238 255]\n",
      "  [238 238 238 255]\n",
      "  [238 238 238 255]\n",
      "  ..., \n",
      "  [238 238 238 255]\n",
      "  [238 238 238 255]\n",
      "  [238 238 238 255]]\n",
      "\n",
      " [[238 238 238 255]\n",
      "  [238 238 238 255]\n",
      "  [238 238 238 255]\n",
      "  ..., \n",
      "  [238 238 238 255]\n",
      "  [238 238 238 255]\n",
      "  [238 238 238 255]]\n",
      "\n",
      " [[238 238 238 255]\n",
      "  [238 238 238 255]\n",
      "  [238 238 238 255]\n",
      "  ..., \n",
      "  [238 238 238 255]\n",
      "  [238 238 238 255]\n",
      "  [238 238 238 255]]]\n"
     ]
    }
   ],
   "source": [
    "path = \"Dataset/\"\n",
    "arr = os.listdir( path )\n",
    "print(arr)\n",
    "for f in arr:\n",
    "    if f.endswith(\".png\"):\n",
    "        img = Image.open(path + f)\n",
    "        data = np.asarray(img)\n",
    "        print(data)"
   ]
  },
  {
   "cell_type": "code",
   "execution_count": null,
   "metadata": {
    "collapsed": true
   },
   "outputs": [],
   "source": []
  },
  {
   "cell_type": "code",
   "execution_count": null,
   "metadata": {
    "collapsed": true
   },
   "outputs": [],
   "source": []
  }
 ],
 "metadata": {
  "kernelspec": {
   "display_name": "Python 3",
   "language": "python",
   "name": "python3"
  },
  "language_info": {
   "codemirror_mode": {
    "name": "ipython",
    "version": 3
   },
   "file_extension": ".py",
   "mimetype": "text/x-python",
   "name": "python",
   "nbconvert_exporter": "python",
   "pygments_lexer": "ipython3",
   "version": "3.6.2"
  }
 },
 "nbformat": 4,
 "nbformat_minor": 2
}
