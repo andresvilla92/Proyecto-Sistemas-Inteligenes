{
 "cells": [
  {
   "cell_type": "markdown",
   "metadata": {},
   "source": [
    "Descripción inicial: \n",
    "Software que ayudará a la validación de fotografías para documentos oficiales como por ejemplo: \n",
    "    - Pasaportes\n",
    "    - Visas \n",
    "    - INE\n",
    "    - Título profesional \n",
    "    - ETC"
   ]
  },
  {
   "cell_type": "markdown",
   "metadata": {},
   "source": [
    "Alcance: \n",
    "Detección de gestos en fotografías como sonrisas o enojo y de características de la persona como fleco o peinado. "
   ]
  },
  {
   "cell_type": "markdown",
   "metadata": {},
   "source": [
    "Producto final esperado: \n",
    "Software que analice fotografías y determine si se pueden utilizar para los documentos oficiales especificados. "
   ]
  },
  {
   "cell_type": "markdown",
   "metadata": {},
   "source": [
    "Algoritmos finales seleccionados: \n",
    "- kmeans para la clasificación de características en las fotografías \n",
    "- Naïve Bayes para la validación de las características de acuerdo al documentos especificado. \n",
    "- Tensorflow (de acuerdo a la aplicación que se vea en clase) "
   ]
  }
 ],
 "metadata": {
  "kernelspec": {
   "display_name": "Python 3",
   "language": "python",
   "name": "python3"
  },
  "language_info": {
   "codemirror_mode": {
    "name": "ipython",
    "version": 3
   },
   "file_extension": ".py",
   "mimetype": "text/x-python",
   "name": "python",
   "nbconvert_exporter": "python",
   "pygments_lexer": "ipython3",
   "version": "3.6.1"
  }
 },
 "nbformat": 4,
 "nbformat_minor": 2
}
